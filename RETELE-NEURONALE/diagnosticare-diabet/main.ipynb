{
 "metadata": {
  "language_info": {
   "codemirror_mode": {
    "name": "ipython",
    "version": 3
   },
   "file_extension": ".py",
   "mimetype": "text/x-python",
   "name": "python",
   "nbconvert_exporter": "python",
   "pygments_lexer": "ipython3",
   "version": "3.8.6-final"
  },
  "orig_nbformat": 2,
  "kernelspec": {
   "name": "python3",
   "display_name": "Python 3.8.6 64-bit",
   "metadata": {
    "interpreter": {
     "hash": "aaf60e4eb78d6d8dad45a697cb56225f1c9fd2b04097b165cd75251513b2c690"
    }
   }
  }
 },
 "nbformat": 4,
 "nbformat_minor": 2,
 "cells": [
  {
   "cell_type": "code",
   "execution_count": 1,
   "metadata": {},
   "outputs": [],
   "source": [
    "import numpy as np\n",
    "import pandas as pd"
   ]
  },
  {
   "cell_type": "code",
   "execution_count": 2,
   "metadata": {},
   "outputs": [],
   "source": [
    "dataset = pd.read_csv('./data.csv')"
   ]
  },
  {
   "cell_type": "code",
   "execution_count": 3,
   "metadata": {},
   "outputs": [
    {
     "output_type": "execute_result",
     "data": {
      "text/plain": [
       "   Pregnancies  Glucose  BloodPressure  SkinThickness  Insulin   BMI  \\\n",
       "0            6      148             72             35        0  33.6   \n",
       "1            1       85             66             29        0  26.6   \n",
       "2            8      183             64              0        0  23.3   \n",
       "3            1       89             66             23       94  28.1   \n",
       "4            0      137             40             35      168  43.1   \n",
       "\n",
       "   DiabetesPedigreeFunction  Age  Outcome  \n",
       "0                     0.627   50        1  \n",
       "1                     0.351   31        0  \n",
       "2                     0.672   32        1  \n",
       "3                     0.167   21        0  \n",
       "4                     2.288   33        1  "
      ],
      "text/html": "<div>\n<style scoped>\n    .dataframe tbody tr th:only-of-type {\n        vertical-align: middle;\n    }\n\n    .dataframe tbody tr th {\n        vertical-align: top;\n    }\n\n    .dataframe thead th {\n        text-align: right;\n    }\n</style>\n<table border=\"1\" class=\"dataframe\">\n  <thead>\n    <tr style=\"text-align: right;\">\n      <th></th>\n      <th>Pregnancies</th>\n      <th>Glucose</th>\n      <th>BloodPressure</th>\n      <th>SkinThickness</th>\n      <th>Insulin</th>\n      <th>BMI</th>\n      <th>DiabetesPedigreeFunction</th>\n      <th>Age</th>\n      <th>Outcome</th>\n    </tr>\n  </thead>\n  <tbody>\n    <tr>\n      <th>0</th>\n      <td>6</td>\n      <td>148</td>\n      <td>72</td>\n      <td>35</td>\n      <td>0</td>\n      <td>33.6</td>\n      <td>0.627</td>\n      <td>50</td>\n      <td>1</td>\n    </tr>\n    <tr>\n      <th>1</th>\n      <td>1</td>\n      <td>85</td>\n      <td>66</td>\n      <td>29</td>\n      <td>0</td>\n      <td>26.6</td>\n      <td>0.351</td>\n      <td>31</td>\n      <td>0</td>\n    </tr>\n    <tr>\n      <th>2</th>\n      <td>8</td>\n      <td>183</td>\n      <td>64</td>\n      <td>0</td>\n      <td>0</td>\n      <td>23.3</td>\n      <td>0.672</td>\n      <td>32</td>\n      <td>1</td>\n    </tr>\n    <tr>\n      <th>3</th>\n      <td>1</td>\n      <td>89</td>\n      <td>66</td>\n      <td>23</td>\n      <td>94</td>\n      <td>28.1</td>\n      <td>0.167</td>\n      <td>21</td>\n      <td>0</td>\n    </tr>\n    <tr>\n      <th>4</th>\n      <td>0</td>\n      <td>137</td>\n      <td>40</td>\n      <td>35</td>\n      <td>168</td>\n      <td>43.1</td>\n      <td>2.288</td>\n      <td>33</td>\n      <td>1</td>\n    </tr>\n  </tbody>\n</table>\n</div>"
     },
     "metadata": {},
     "execution_count": 3
    }
   ],
   "source": [
    "dataset.head()"
   ]
  },
  {
   "cell_type": "code",
   "execution_count": 4,
   "metadata": {},
   "outputs": [],
   "source": [
    "mean = dict()\n",
    "\n",
    "name = \"Glucose\"\n",
    "mean[name] = np.mean(dataset[name].values)\n",
    "name = \"BloodPressure\"\n",
    "mean[name] = np.mean(dataset[name].values)\n",
    "name = \"SkinThickness\"\n",
    "mean[name] = np.mean(dataset[name].values)\n",
    "name = \"Insulin\"\n",
    "mean[name] = np.mean(dataset[name].values)\n",
    "name = \"BMI\"\n",
    "mean[name] = np.mean(dataset[name].values)\n"
   ]
  },
  {
   "cell_type": "code",
   "execution_count": 5,
   "metadata": {},
   "outputs": [],
   "source": [
    "X = dataset.iloc[:, :-1].values\n",
    "y = dataset.iloc[:, -1].values"
   ]
  },
  {
   "cell_type": "code",
   "execution_count": 6,
   "metadata": {},
   "outputs": [],
   "source": [
    "names = [\n",
    "    None,\n",
    "    \"Glucose\",\n",
    "    \"BloodPressure\",\n",
    "    \"SkinThickness\",\n",
    "    \"Insulin\",\n",
    "    \"BMI\"\n",
    "]\n",
    "\n",
    "for col in range(1, 6):\n",
    "   for row in range(len(X)):\n",
    "       name = names[col]\n",
    "       X[row][col] = mean[name] if X[row][col] == 0 else X[row][col]"
   ]
  },
  {
   "cell_type": "code",
   "execution_count": 7,
   "metadata": {},
   "outputs": [],
   "source": [
    "from sklearn.model_selection import train_test_split\n",
    "X_train, X_test, y_train, y_test = train_test_split(X, y, test_size = 0.2, random_state = 0)"
   ]
  },
  {
   "cell_type": "code",
   "execution_count": 8,
   "metadata": {},
   "outputs": [],
   "source": [
    "from sklearn.preprocessing import StandardScaler\n",
    "sc = StandardScaler()\n",
    "X_train = sc.fit_transform(X_train)\n",
    "X_test = sc.transform(X_test)"
   ]
  },
  {
   "cell_type": "code",
   "execution_count": 29,
   "metadata": {},
   "outputs": [],
   "source": [
    "import keras\n",
    "from keras.models import Sequential\n",
    "from keras.layers import Dense, Dropout\n",
    "from keras.optimizers import Adam\n",
    "from keras.regularizers import l2"
   ]
  },
  {
   "cell_type": "code",
   "execution_count": 74,
   "metadata": {},
   "outputs": [],
   "source": [
    "model = Sequential()\n",
    "model.add(Dense(100, activation=\"relu\"))\n",
    "model.add(Dropout(0.2))\n",
    "model.add(Dense(1, activation=\"sigmoid\"))\n",
    "\n",
    "adam = keras.optimizers.Adam(learning_rate=0.001)\n",
    "model.compile(loss=\"binary_crossentropy\", optimizer=adam, metrics=['acc'])"
   ]
  },
  {
   "cell_type": "code",
   "execution_count": 75,
   "metadata": {},
   "outputs": [
    {
     "output_type": "stream",
     "name": "stdout",
     "text": [
      "Epoch 1/100\n",
      "62/62 [==============================] - 0s 3ms/step - loss: 0.6309 - acc: 0.6221 - val_loss: 0.5168 - val_acc: 0.7857\n",
      "Epoch 2/100\n",
      "62/62 [==============================] - 0s 1ms/step - loss: 0.5225 - acc: 0.7508 - val_loss: 0.4506 - val_acc: 0.7987\n",
      "Epoch 3/100\n",
      "62/62 [==============================] - 0s 1ms/step - loss: 0.4928 - acc: 0.7557 - val_loss: 0.4281 - val_acc: 0.7987\n",
      "Epoch 4/100\n",
      "62/62 [==============================] - 0s 2ms/step - loss: 0.4806 - acc: 0.7541 - val_loss: 0.4164 - val_acc: 0.8052\n",
      "Epoch 5/100\n",
      "62/62 [==============================] - 0s 1ms/step - loss: 0.4709 - acc: 0.7606 - val_loss: 0.4114 - val_acc: 0.7922\n",
      "Epoch 6/100\n",
      "62/62 [==============================] - 0s 2ms/step - loss: 0.4616 - acc: 0.7704 - val_loss: 0.4086 - val_acc: 0.7987\n",
      "Epoch 7/100\n",
      "62/62 [==============================] - 0s 1ms/step - loss: 0.4596 - acc: 0.7671 - val_loss: 0.4077 - val_acc: 0.7922\n",
      "Epoch 8/100\n",
      "62/62 [==============================] - 0s 1ms/step - loss: 0.4582 - acc: 0.7818 - val_loss: 0.4065 - val_acc: 0.7987\n",
      "Epoch 9/100\n",
      "62/62 [==============================] - 0s 1ms/step - loss: 0.4580 - acc: 0.7671 - val_loss: 0.4067 - val_acc: 0.8052\n",
      "Epoch 10/100\n",
      "62/62 [==============================] - 0s 2ms/step - loss: 0.4524 - acc: 0.7752 - val_loss: 0.4071 - val_acc: 0.8052\n",
      "Epoch 11/100\n",
      "62/62 [==============================] - 0s 1ms/step - loss: 0.4451 - acc: 0.7866 - val_loss: 0.4068 - val_acc: 0.7987\n",
      "Epoch 12/100\n",
      "62/62 [==============================] - 0s 2ms/step - loss: 0.4496 - acc: 0.7752 - val_loss: 0.4075 - val_acc: 0.8052\n",
      "Epoch 13/100\n",
      "62/62 [==============================] - 0s 2ms/step - loss: 0.4509 - acc: 0.7834 - val_loss: 0.4065 - val_acc: 0.8052\n",
      "Epoch 14/100\n",
      "62/62 [==============================] - 0s 1ms/step - loss: 0.4441 - acc: 0.7818 - val_loss: 0.4053 - val_acc: 0.8052\n",
      "Epoch 15/100\n",
      "62/62 [==============================] - 0s 1ms/step - loss: 0.4416 - acc: 0.7850 - val_loss: 0.4066 - val_acc: 0.8117\n",
      "Epoch 16/100\n",
      "62/62 [==============================] - 0s 2ms/step - loss: 0.4425 - acc: 0.7834 - val_loss: 0.4093 - val_acc: 0.8117\n",
      "Epoch 17/100\n",
      "62/62 [==============================] - 0s 1ms/step - loss: 0.4360 - acc: 0.7932 - val_loss: 0.4087 - val_acc: 0.8117\n",
      "Epoch 18/100\n",
      "62/62 [==============================] - 0s 1ms/step - loss: 0.4378 - acc: 0.7818 - val_loss: 0.4102 - val_acc: 0.8117\n",
      "Epoch 19/100\n",
      "62/62 [==============================] - 0s 1ms/step - loss: 0.4412 - acc: 0.7785 - val_loss: 0.4106 - val_acc: 0.8117\n",
      "Epoch 20/100\n",
      "62/62 [==============================] - 0s 1ms/step - loss: 0.4309 - acc: 0.7850 - val_loss: 0.4143 - val_acc: 0.8117\n",
      "Epoch 21/100\n",
      "62/62 [==============================] - 0s 1ms/step - loss: 0.4385 - acc: 0.7850 - val_loss: 0.4112 - val_acc: 0.8117\n",
      "Epoch 22/100\n",
      "62/62 [==============================] - 0s 2ms/step - loss: 0.4325 - acc: 0.7866 - val_loss: 0.4125 - val_acc: 0.8117\n",
      "Epoch 23/100\n",
      "62/62 [==============================] - 0s 1ms/step - loss: 0.4300 - acc: 0.7866 - val_loss: 0.4109 - val_acc: 0.8117\n",
      "Epoch 24/100\n",
      "62/62 [==============================] - 0s 2ms/step - loss: 0.4316 - acc: 0.7818 - val_loss: 0.4119 - val_acc: 0.8117\n",
      "Epoch 25/100\n",
      "62/62 [==============================] - 0s 2ms/step - loss: 0.4310 - acc: 0.8046 - val_loss: 0.4138 - val_acc: 0.8182\n",
      "Epoch 26/100\n",
      "62/62 [==============================] - 0s 2ms/step - loss: 0.4241 - acc: 0.7980 - val_loss: 0.4140 - val_acc: 0.8182\n",
      "Epoch 27/100\n",
      "62/62 [==============================] - 0s 1ms/step - loss: 0.4256 - acc: 0.7915 - val_loss: 0.4143 - val_acc: 0.8117\n",
      "Epoch 28/100\n",
      "62/62 [==============================] - 0s 1ms/step - loss: 0.4211 - acc: 0.7980 - val_loss: 0.4153 - val_acc: 0.8182\n",
      "Epoch 29/100\n",
      "62/62 [==============================] - 0s 2ms/step - loss: 0.4268 - acc: 0.7997 - val_loss: 0.4151 - val_acc: 0.8117\n",
      "Epoch 30/100\n",
      "62/62 [==============================] - 0s 1ms/step - loss: 0.4313 - acc: 0.8046 - val_loss: 0.4173 - val_acc: 0.8182\n",
      "Epoch 31/100\n",
      "62/62 [==============================] - 0s 1ms/step - loss: 0.4238 - acc: 0.7964 - val_loss: 0.4160 - val_acc: 0.8182\n",
      "Epoch 32/100\n",
      "62/62 [==============================] - 0s 1ms/step - loss: 0.4285 - acc: 0.7883 - val_loss: 0.4158 - val_acc: 0.8182\n",
      "Epoch 33/100\n",
      "62/62 [==============================] - 0s 1ms/step - loss: 0.4237 - acc: 0.8111 - val_loss: 0.4167 - val_acc: 0.8182\n",
      "Epoch 34/100\n",
      "62/62 [==============================] - 0s 1ms/step - loss: 0.4229 - acc: 0.8062 - val_loss: 0.4143 - val_acc: 0.8247\n",
      "Epoch 35/100\n",
      "62/62 [==============================] - 0s 1ms/step - loss: 0.4168 - acc: 0.7948 - val_loss: 0.4172 - val_acc: 0.8247\n",
      "Epoch 36/100\n",
      "62/62 [==============================] - 0s 2ms/step - loss: 0.4230 - acc: 0.8029 - val_loss: 0.4195 - val_acc: 0.8247\n",
      "Epoch 37/100\n",
      "62/62 [==============================] - 0s 2ms/step - loss: 0.4245 - acc: 0.7980 - val_loss: 0.4177 - val_acc: 0.8117\n",
      "Epoch 38/100\n",
      "62/62 [==============================] - 0s 2ms/step - loss: 0.4178 - acc: 0.7915 - val_loss: 0.4185 - val_acc: 0.8182\n",
      "Epoch 39/100\n",
      "62/62 [==============================] - 0s 2ms/step - loss: 0.4177 - acc: 0.8094 - val_loss: 0.4203 - val_acc: 0.8182\n",
      "Epoch 40/100\n",
      "62/62 [==============================] - 0s 2ms/step - loss: 0.4172 - acc: 0.8029 - val_loss: 0.4171 - val_acc: 0.8182\n",
      "Epoch 41/100\n",
      "62/62 [==============================] - 0s 2ms/step - loss: 0.4215 - acc: 0.8013 - val_loss: 0.4169 - val_acc: 0.8117\n",
      "Epoch 42/100\n",
      "62/62 [==============================] - 0s 2ms/step - loss: 0.4114 - acc: 0.8094 - val_loss: 0.4161 - val_acc: 0.8117\n",
      "Epoch 43/100\n",
      "62/62 [==============================] - 0s 2ms/step - loss: 0.4172 - acc: 0.7948 - val_loss: 0.4188 - val_acc: 0.8182\n",
      "Epoch 44/100\n",
      "62/62 [==============================] - 0s 2ms/step - loss: 0.4222 - acc: 0.7932 - val_loss: 0.4175 - val_acc: 0.8247\n",
      "Epoch 45/100\n",
      "62/62 [==============================] - 0s 2ms/step - loss: 0.4155 - acc: 0.7801 - val_loss: 0.4167 - val_acc: 0.8182\n",
      "Epoch 46/100\n",
      "62/62 [==============================] - 0s 1ms/step - loss: 0.4077 - acc: 0.8160 - val_loss: 0.4199 - val_acc: 0.8117\n",
      "Epoch 47/100\n",
      "62/62 [==============================] - 0s 1ms/step - loss: 0.4075 - acc: 0.8013 - val_loss: 0.4190 - val_acc: 0.8117\n",
      "Epoch 48/100\n",
      "62/62 [==============================] - 0s 1ms/step - loss: 0.4087 - acc: 0.8078 - val_loss: 0.4205 - val_acc: 0.8117\n",
      "Epoch 49/100\n",
      "62/62 [==============================] - 0s 1ms/step - loss: 0.4098 - acc: 0.7997 - val_loss: 0.4219 - val_acc: 0.8117\n",
      "Epoch 50/100\n",
      "62/62 [==============================] - 0s 2ms/step - loss: 0.4036 - acc: 0.8013 - val_loss: 0.4193 - val_acc: 0.8312\n",
      "Epoch 51/100\n",
      "62/62 [==============================] - 0s 1ms/step - loss: 0.4085 - acc: 0.8062 - val_loss: 0.4185 - val_acc: 0.8182\n",
      "Epoch 52/100\n",
      "62/62 [==============================] - 0s 1ms/step - loss: 0.4174 - acc: 0.7980 - val_loss: 0.4206 - val_acc: 0.8182\n",
      "Epoch 53/100\n",
      "62/62 [==============================] - 0s 1ms/step - loss: 0.4058 - acc: 0.7980 - val_loss: 0.4180 - val_acc: 0.8247\n",
      "Epoch 54/100\n",
      "62/62 [==============================] - 0s 1ms/step - loss: 0.4088 - acc: 0.7997 - val_loss: 0.4192 - val_acc: 0.8182\n",
      "Epoch 55/100\n",
      "62/62 [==============================] - 0s 1ms/step - loss: 0.4089 - acc: 0.8127 - val_loss: 0.4213 - val_acc: 0.8182\n",
      "Epoch 56/100\n",
      "62/62 [==============================] - 0s 1ms/step - loss: 0.4064 - acc: 0.8160 - val_loss: 0.4212 - val_acc: 0.8117\n",
      "Epoch 57/100\n",
      "62/62 [==============================] - 0s 2ms/step - loss: 0.4094 - acc: 0.8160 - val_loss: 0.4198 - val_acc: 0.8247\n",
      "Epoch 58/100\n",
      "62/62 [==============================] - 0s 2ms/step - loss: 0.4102 - acc: 0.7932 - val_loss: 0.4227 - val_acc: 0.8182\n",
      "Epoch 59/100\n",
      "62/62 [==============================] - 0s 1ms/step - loss: 0.4114 - acc: 0.8241 - val_loss: 0.4216 - val_acc: 0.8117\n",
      "Epoch 60/100\n",
      "62/62 [==============================] - 0s 1ms/step - loss: 0.4045 - acc: 0.8078 - val_loss: 0.4209 - val_acc: 0.8182\n",
      "Epoch 61/100\n",
      "62/62 [==============================] - 0s 1ms/step - loss: 0.3990 - acc: 0.8111 - val_loss: 0.4237 - val_acc: 0.8247\n",
      "Epoch 62/100\n",
      "62/62 [==============================] - 0s 2ms/step - loss: 0.3990 - acc: 0.8094 - val_loss: 0.4211 - val_acc: 0.8182\n",
      "Epoch 63/100\n",
      "62/62 [==============================] - 0s 2ms/step - loss: 0.4064 - acc: 0.8111 - val_loss: 0.4199 - val_acc: 0.8247\n",
      "Epoch 64/100\n",
      "62/62 [==============================] - 0s 2ms/step - loss: 0.3979 - acc: 0.8176 - val_loss: 0.4198 - val_acc: 0.8182\n",
      "Epoch 65/100\n",
      "62/62 [==============================] - 0s 1ms/step - loss: 0.4005 - acc: 0.8094 - val_loss: 0.4213 - val_acc: 0.8182\n",
      "Epoch 66/100\n",
      "62/62 [==============================] - 0s 1ms/step - loss: 0.4025 - acc: 0.8078 - val_loss: 0.4192 - val_acc: 0.8247\n",
      "Epoch 67/100\n",
      "62/62 [==============================] - 0s 2ms/step - loss: 0.3952 - acc: 0.8274 - val_loss: 0.4181 - val_acc: 0.8247\n",
      "Epoch 68/100\n",
      "62/62 [==============================] - 0s 2ms/step - loss: 0.4034 - acc: 0.8013 - val_loss: 0.4207 - val_acc: 0.8247\n",
      "Epoch 69/100\n",
      "62/62 [==============================] - 0s 2ms/step - loss: 0.4001 - acc: 0.8225 - val_loss: 0.4213 - val_acc: 0.8182\n",
      "Epoch 70/100\n",
      "62/62 [==============================] - 0s 1ms/step - loss: 0.4022 - acc: 0.8062 - val_loss: 0.4181 - val_acc: 0.8247\n",
      "Epoch 71/100\n",
      "62/62 [==============================] - 0s 1ms/step - loss: 0.3903 - acc: 0.8274 - val_loss: 0.4178 - val_acc: 0.8312\n",
      "Epoch 72/100\n",
      "62/62 [==============================] - 0s 2ms/step - loss: 0.4020 - acc: 0.8127 - val_loss: 0.4198 - val_acc: 0.8247\n",
      "Epoch 73/100\n",
      "62/62 [==============================] - 0s 2ms/step - loss: 0.3985 - acc: 0.8241 - val_loss: 0.4182 - val_acc: 0.8182\n",
      "Epoch 74/100\n",
      "62/62 [==============================] - 0s 2ms/step - loss: 0.4014 - acc: 0.8046 - val_loss: 0.4166 - val_acc: 0.8182\n",
      "Epoch 75/100\n",
      "62/62 [==============================] - 0s 2ms/step - loss: 0.4028 - acc: 0.8094 - val_loss: 0.4211 - val_acc: 0.8182\n",
      "Epoch 76/100\n",
      "62/62 [==============================] - 0s 2ms/step - loss: 0.3967 - acc: 0.8241 - val_loss: 0.4200 - val_acc: 0.8182\n",
      "Epoch 77/100\n",
      "62/62 [==============================] - 0s 2ms/step - loss: 0.3833 - acc: 0.8290 - val_loss: 0.4188 - val_acc: 0.8312\n",
      "Epoch 78/100\n",
      "62/62 [==============================] - 0s 2ms/step - loss: 0.3973 - acc: 0.8160 - val_loss: 0.4182 - val_acc: 0.8247\n",
      "Epoch 79/100\n",
      "62/62 [==============================] - 0s 1ms/step - loss: 0.3969 - acc: 0.8208 - val_loss: 0.4206 - val_acc: 0.8312\n",
      "Epoch 80/100\n",
      "62/62 [==============================] - 0s 1ms/step - loss: 0.3941 - acc: 0.8111 - val_loss: 0.4216 - val_acc: 0.8117\n",
      "Epoch 81/100\n",
      "62/62 [==============================] - 0s 1ms/step - loss: 0.4047 - acc: 0.8192 - val_loss: 0.4251 - val_acc: 0.8247\n",
      "Epoch 82/100\n",
      "62/62 [==============================] - 0s 2ms/step - loss: 0.3977 - acc: 0.8094 - val_loss: 0.4261 - val_acc: 0.8052\n",
      "Epoch 83/100\n",
      "62/62 [==============================] - 0s 1ms/step - loss: 0.4057 - acc: 0.8127 - val_loss: 0.4246 - val_acc: 0.8377\n",
      "Epoch 84/100\n",
      "62/62 [==============================] - 0s 1ms/step - loss: 0.3925 - acc: 0.8062 - val_loss: 0.4194 - val_acc: 0.8117\n",
      "Epoch 85/100\n",
      "62/62 [==============================] - 0s 2ms/step - loss: 0.3911 - acc: 0.8241 - val_loss: 0.4233 - val_acc: 0.8247\n",
      "Epoch 86/100\n",
      "62/62 [==============================] - 0s 2ms/step - loss: 0.4035 - acc: 0.8160 - val_loss: 0.4236 - val_acc: 0.8247\n",
      "Epoch 87/100\n",
      "62/62 [==============================] - 0s 2ms/step - loss: 0.3947 - acc: 0.8111 - val_loss: 0.4198 - val_acc: 0.8247\n",
      "Epoch 88/100\n",
      "62/62 [==============================] - 0s 3ms/step - loss: 0.3904 - acc: 0.8176 - val_loss: 0.4244 - val_acc: 0.8247\n",
      "Epoch 89/100\n",
      "62/62 [==============================] - 0s 3ms/step - loss: 0.3838 - acc: 0.8322 - val_loss: 0.4242 - val_acc: 0.8247\n",
      "Epoch 90/100\n",
      "62/62 [==============================] - 0s 2ms/step - loss: 0.3999 - acc: 0.8192 - val_loss: 0.4232 - val_acc: 0.8117\n",
      "Epoch 91/100\n",
      "62/62 [==============================] - 0s 3ms/step - loss: 0.3940 - acc: 0.8176 - val_loss: 0.4235 - val_acc: 0.8247\n",
      "Epoch 92/100\n",
      "62/62 [==============================] - 0s 2ms/step - loss: 0.3917 - acc: 0.8322 - val_loss: 0.4247 - val_acc: 0.8117\n",
      "Epoch 93/100\n",
      "62/62 [==============================] - 0s 2ms/step - loss: 0.3874 - acc: 0.8225 - val_loss: 0.4208 - val_acc: 0.8247\n",
      "Epoch 94/100\n",
      "62/62 [==============================] - 0s 2ms/step - loss: 0.3891 - acc: 0.8192 - val_loss: 0.4236 - val_acc: 0.8247\n",
      "Epoch 95/100\n",
      "62/62 [==============================] - 0s 2ms/step - loss: 0.3926 - acc: 0.8176 - val_loss: 0.4198 - val_acc: 0.8312\n",
      "Epoch 96/100\n",
      "62/62 [==============================] - 0s 2ms/step - loss: 0.3951 - acc: 0.8143 - val_loss: 0.4231 - val_acc: 0.8312\n",
      "Epoch 97/100\n",
      "62/62 [==============================] - 0s 2ms/step - loss: 0.3948 - acc: 0.8127 - val_loss: 0.4222 - val_acc: 0.8312\n",
      "Epoch 98/100\n",
      "62/62 [==============================] - 0s 2ms/step - loss: 0.3867 - acc: 0.8290 - val_loss: 0.4229 - val_acc: 0.8312\n",
      "Epoch 99/100\n",
      "62/62 [==============================] - 0s 2ms/step - loss: 0.3772 - acc: 0.8274 - val_loss: 0.4214 - val_acc: 0.8182\n",
      "Epoch 100/100\n",
      "62/62 [==============================] - 0s 2ms/step - loss: 0.3835 - acc: 0.8143 - val_loss: 0.4237 - val_acc: 0.8377\n"
     ]
    },
    {
     "output_type": "execute_result",
     "data": {
      "text/plain": [
       "<tensorflow.python.keras.callbacks.History at 0x243e3963070>"
      ]
     },
     "metadata": {},
     "execution_count": 75
    }
   ],
   "source": [
    "model.fit(X_train, y_train, batch_size = 10, epochs = 100, validation_data=(X_test, y_test))"
   ]
  },
  {
   "cell_type": "code",
   "execution_count": null,
   "metadata": {},
   "outputs": [],
   "source": []
  }
 ]
}